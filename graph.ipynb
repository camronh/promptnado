{
 "cells": [
  {
   "cell_type": "code",
   "execution_count": 1,
   "metadata": {},
   "outputs": [
    {
     "name": "stderr",
     "output_type": "stream",
     "text": [
      "/Users/camron/Documents/Dev/promptnado/.venv/lib/python3.9/site-packages/urllib3/__init__.py:35: NotOpenSSLWarning: urllib3 v2 only supports OpenSSL 1.1.1+, currently the 'ssl' module is compiled with 'LibreSSL 2.8.3'. See: https://github.com/urllib3/urllib3/issues/3020\n",
      "  warnings.warn(\n"
     ]
    }
   ],
   "source": [
    "from langgraph.graph import StateGraph, START, END\n",
    "\n",
    "from typing_extensions import TypedDict\n",
    "import operator\n",
    "\n",
    "from typing import List, TypedDict, Annotated\n",
    "\n"
   ]
  },
  {
   "cell_type": "code",
   "execution_count": 1,
   "metadata": {},
   "outputs": [
    {
     "name": "stdout",
     "output_type": "stream",
     "text": [
      "Note: you may need to restart the kernel to use updated packages.\n"
     ]
    }
   ],
   "source": [
    "%pip install -qU -e ."
   ]
  },
  {
   "cell_type": "code",
   "execution_count": null,
   "metadata": {},
   "outputs": [],
   "source": [
    "from promptnado import Promptnado, Example, LangsmithDataset, Rule\n",
    "from langchain.schema.messages import AIMessage\n",
    "from pydantic.v1 import BaseModel, Field\n",
    "\n",
    "\n",
    "example_system_prompt = \"\"\"You are a helpful assistant. \n",
    "\n",
    "Rules:\n",
    "- You are only allowed to talk about coding\n",
    "- <HERE>\n",
    "- Try to be concise\"\"\"\n",
    "\n",
    "example_instruction = \"The agent should only respond in English.\"\n",
    "\n",
    "examples = [[AIMessage(content=\"Hola, como estas?\")], \"Hi there!\", Example(\n",
    "    input=\"Hi there!\", reference_output=\"Hey!\")]\n"
   ]
  },
  {
   "cell_type": "code",
   "execution_count": null,
   "metadata": {},
   "outputs": [],
   "source": [
    "# dataset = LangsmithDataset(dataset_name=\"Promptnado_476666\")\n",
    "\n",
    "pn = Promptnado(example_system_prompt, example_instruction,\n",
    "                examples, max_attempts=2, experiment_name=\"graph\")"
   ]
  },
  {
   "cell_type": "code",
   "execution_count": null,
   "metadata": {},
   "outputs": [],
   "source": [
    "class State(TypedDict):\n",
    "    # List of rules that have not been tested yet\n",
    "    untested_rules: List[Rule]\n",
    "    tested_rules: List[Rule]           # List of rules that have been tested\n",
    "    current_rule: Rule                 # The rule currently being tested\n",
    "    current_prompt: str               # The prompt associated with the current rule\n",
    "    solved: bool                   # Indicates whether the current rule has solved the problem\n",
    "    attempt: int               # The number of attempts made with the current rule\n",
    "    successful_prompt: str  # The prompt that was successful, if any\n",
    "    # test_results: List[str]           # Results of each test performed\n",
    "\n"
   ]
  },
  {
   "cell_type": "code",
   "execution_count": 2,
   "metadata": {},
   "outputs": [
    {
     "ename": "NameError",
     "evalue": "name 'State' is not defined",
     "output_type": "error",
     "traceback": [
      "\u001b[0;31m---------------------------------------------------------------------------\u001b[0m",
      "\u001b[0;31mNameError\u001b[0m                                 Traceback (most recent call last)",
      "Cell \u001b[0;32mIn[2], line 2\u001b[0m\n\u001b[1;32m      1\u001b[0m \u001b[38;5;66;03m# Nodes\u001b[39;00m\n\u001b[0;32m----> 2\u001b[0m \u001b[38;5;28;01mdef\u001b[39;00m \u001b[38;5;21mgenerate_rules\u001b[39m(state: \u001b[43mState\u001b[49m):\n\u001b[1;32m      3\u001b[0m     pn\u001b[38;5;241m.\u001b[39m_generate_rules()\n\u001b[1;32m      5\u001b[0m \u001b[38;5;28;01mdef\u001b[39;00m \u001b[38;5;21mtest_rule\u001b[39m(state: State):\n",
      "\u001b[0;31mNameError\u001b[0m: name 'State' is not defined"
     ]
    }
   ],
   "source": [
    "# Nodes\n",
    "def generate_rules(state: State):\n",
    "    pn._generate_rules()\n",
    "    return {\"untested_rules\": pn.rules}\n",
    "\n",
    "\n",
    "def next_rule(state: State):\n",
    "    \"\"\"Set the state to be ready to test the next rule\"\"\"\n",
    "    pn._next_rule()\n",
    "    return {\"current_rule\": pn.current_rule, \"current_prompt\": pn.current_prompt, \"untested_rules\": pn.rules}\n",
    "\n",
    "\n",
    "def test_rule(state: State):\n",
    "    # Pop rule from state[\"rules\"]\n",
    "    current_rule = state[\"current_rule\"]\n",
    "    results = pn._test_rule(current_rule)\n",
    "    solved = pn._is_solved(results)\n",
    "    return {\"solved\": solved, \"attempt\": state[\"attempt\"] + 1, \"successful_prompt\": pn.current_prompt}\n",
    "\n",
    "\n",
    "def success(state: State):\n",
    "    print(\"\\n\\nSolved!! Current prompt can be found at `self.successful_prompt`\\n\\n\")\n",
    "    # ANSI escape codes for green text and reset\n",
    "    GREEN = \"\\033[92m\"\n",
    "    RESET = \"\\033[0m\"\n",
    "\n",
    "    green_rule = f\"{GREEN}{pn.current_rule.prompt}{RESET}\"\n",
    "    highlighted_prompt = pn.system_prompt.replace(\n",
    "        pn.rule_token, green_rule)\n",
    "\n",
    "    print(\n",
    "        f\"Successful prompt:\\n====================\\n{highlighted_prompt}\\n=================\")\n",
    "    print(pn.dataset.dataset.url)\n",
    "    return {\"current_rule\": pn.current_rule, \"current_prompt\": pn.current_prompt, \"solved\": True, \"attempts\": pn.attempts}\n",
    "\n",
    "def failure(state: State):\n",
    "    return {\"tested_rules\": pn.tested_rules, \"solved\": False, \"attempts\": pn.attempts}"
   ]
  },
  {
   "cell_type": "code",
   "execution_count": null,
   "metadata": {},
   "outputs": [],
   "source": [
    "# edges\n",
    "def route(state: State):\n",
    "    if pn.solved:\n",
    "        return \"success\"\n",
    "    \n",
    "    # If weve reached the max attempts route to failure\n",
    "    if pn.attempts >= pn.max_attempts:\n",
    "        return \"failure\"\n",
    "    \n",
    "    # If we have no more rules left, generate more\n",
    "    if not pn.rules:\n",
    "        return \"generate_rules\"\n",
    "    \n",
    "    return \"next\""
   ]
  },
  {
   "cell_type": "code",
   "execution_count": null,
   "metadata": {},
   "outputs": [],
   "source": [
    "def create_graph():\n",
    "    graph = StateGraph(State)\n",
    "\n",
    "    # Add nodes\n",
    "    graph.add_node(\"GenerateRules\", generate_rules)\n",
    "    graph.add_node(\"NextRule\", next_rule)\n",
    "    graph.add_node(\"TestRule\", test_rule)\n",
    "    graph.add_node(\"Success\", success)\n",
    "    graph.add_node(\"Failure\", failure)\n",
    "\n",
    "    # Add edges\n",
    "    graph.add_edge(\"GenerateRules\", \"NextRule\")\n",
    "    graph.add_edge(\"NextRule\", \"TestRule\")\n",
    "    \n",
    "    # Conditional edges from test_rule\n",
    "    graph.add_conditional_edges(\n",
    "        \"TestRule\",\n",
    "        route,\n",
    "        {\n",
    "            \"success\": \"Success\",\n",
    "            \"generate_rules\": \"GenerateRules\",\n",
    "            \"next\": \"NextRule\",\n",
    "            \"failure\": \"Failure\"\n",
    "        }\n",
    "    )\n",
    "\n",
    "    # Set the entry point\n",
    "    graph.set_entry_point(\"GenerateRules\")\n",
    "    app = graph.compile()\n",
    "    return app\n",
    "\n",
    "app = create_graph()\n"
   ]
  },
  {
   "cell_type": "code",
   "execution_count": null,
   "metadata": {},
   "outputs": [],
   "source": [
    "    "
   ]
  }
 ],
 "metadata": {
  "kernelspec": {
   "display_name": ".venv",
   "language": "python",
   "name": "python3"
  },
  "language_info": {
   "codemirror_mode": {
    "name": "ipython",
    "version": 3
   },
   "file_extension": ".py",
   "mimetype": "text/x-python",
   "name": "python",
   "nbconvert_exporter": "python",
   "pygments_lexer": "ipython3",
   "version": "3.9.6"
  }
 },
 "nbformat": 4,
 "nbformat_minor": 2
}
