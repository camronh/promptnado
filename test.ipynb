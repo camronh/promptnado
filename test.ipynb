{
 "cells": [
  {
   "cell_type": "code",
   "execution_count": 1,
   "metadata": {},
   "outputs": [
    {
     "name": "stdout",
     "output_type": "stream",
     "text": [
      "Note: you may need to restart the kernel to use updated packages.\n"
     ]
    }
   ],
   "source": [
    "%pip install -qU -e ."
   ]
  },
  {
   "cell_type": "code",
   "execution_count": 2,
   "metadata": {},
   "outputs": [
    {
     "data": {
      "text/plain": [
       "True"
      ]
     },
     "execution_count": 2,
     "metadata": {},
     "output_type": "execute_result"
    }
   ],
   "source": [
    "from dotenv import load_dotenv\n",
    "load_dotenv()"
   ]
  },
  {
   "cell_type": "code",
   "execution_count": 3,
   "metadata": {},
   "outputs": [
    {
     "name": "stderr",
     "output_type": "stream",
     "text": [
      "/Users/camron/Documents/Dev/promptnado/.venv/lib/python3.9/site-packages/urllib3/__init__.py:35: NotOpenSSLWarning: urllib3 v2 only supports OpenSSL 1.1.1+, currently the 'ssl' module is compiled with 'LibreSSL 2.8.3'. See: https://github.com/urllib3/urllib3/issues/3020\n",
      "  warnings.warn(\n",
      "/Users/camron/Documents/Dev/promptnado/.venv/lib/python3.9/site-packages/langchain_core/_api/beta_decorator.py:87: LangChainBetaWarning: The function `init_chat_model` is in beta. It is actively being worked on, so the API may change.\n",
      "  warn_beta(\n"
     ]
    }
   ],
   "source": [
    "from promptnado import Promptnado, Example, LangsmithDataset\n",
    "from langchain.schema.messages import AIMessage\n",
    "\n",
    "\n",
    "example_system_prompt = \"\"\"You are a helpful assistant. \n",
    "\n",
    "Rules:\n",
    "- You are only allowed to talk about coding\n",
    "- <HERE>\n",
    "- Try to be concise\"\"\"\n",
    "\n",
    "example_instruction = \"The agent should only respond in English.\"\n",
    "\n",
    "examples = [[AIMessage(content=\"Hola, como estas?\")], \"Hi there!\", Example(\n",
    "    input=\"Hi there!\", reference_output=\"Hey!\")]"
   ]
  },
  {
   "cell_type": "code",
   "execution_count": 4,
   "metadata": {},
   "outputs": [
    {
     "name": "stdout",
     "output_type": "stream",
     "text": [
      "Running Promptnado with instruction: The agent should only respond in English.\n",
      "Created dataset: Zeep_819892 with 3 examples\n",
      "https://smith.langchain.com/o/d967989d-4221-53db-b0a5-665b504acba2/datasets/1e12570f-851b-4e3b-9785-ea4bebd124f4\n",
      "Generated 5 rules\n",
      "\n",
      "[Rule(reasoning='This prompt directly instructs the assistant to respond in English, which is a straightforward way to ensure compliance with the instruction.', prompt='You must respond in English.'), Rule(reasoning='By emphasizing that the assistant should ONLY respond in English, it reinforces the exclusivity of the language while maintaining clarity.', prompt='You are required to ONLY respond in English.'), Rule(reasoning='This version provides a specific example of how the assistant should respond, which can help clarify the expectation for language use.', prompt=\"Please respond in English, for example, 'Hello, how can I assist you?'.\"), Rule(reasoning='This prompt stresses the importance of using English while also linking it to the context of coding, which aligns with the rules already established in the original prompt.', prompt='In the context of coding, please ensure all responses are provided in English.'), Rule(reasoning='This more complex prompt combines the requirement to respond in English with a reminder of the coding context, thereby reinforcing the instruction while maintaining clarity and focus on the subject matter.', prompt='As a coding assistant, your responses must be exclusively in English, without exceptions.')]\n",
      "\n",
      "Testing rule: \"You must respond in English.\"\n",
      "Interpolated prompt:\n",
      "\n",
      "You are a helpful assistant. \n",
      "\n",
      "Rules:\n",
      "- You are only allowed to talk about coding\n",
      "- You must respond in English.\n",
      "- Try to be concise\n"
     ]
    },
    {
     "name": "stderr",
     "output_type": "stream",
     "text": [
      "/Users/camron/Documents/Dev/promptnado/.venv/lib/python3.9/site-packages/tqdm/auto.py:21: TqdmWarning: IProgress not found. Please update jupyter and ipywidgets. See https://ipywidgets.readthedocs.io/en/stable/user_install.html\n",
      "  from .autonotebook import tqdm as notebook_tqdm\n"
     ]
    },
    {
     "name": "stdout",
     "output_type": "stream",
     "text": [
      "View the evaluation results for experiment: 'Attempt-1-8bd29588' at:\n",
      "https://smith.langchain.com/o/d967989d-4221-53db-b0a5-665b504acba2/datasets/1e12570f-851b-4e3b-9785-ea4bebd124f4/compare?selectedSessions=30bc7a38-cdd5-40ec-838d-2ff201ac6f0b\n",
      "\n",
      "\n"
     ]
    },
    {
     "name": "stderr",
     "output_type": "stream",
     "text": [
      "3it [00:03,  1.14s/it]"
     ]
    },
    {
     "name": "stdout",
     "output_type": "stream",
     "text": [
      "\n",
      "\n",
      "Solved!! Current prompt can be found at `self.successful_prompt`\n",
      "\n",
      "\n",
      "Successful prompt:\n",
      "====================\n",
      "You are a helpful assistant. \n",
      "\n",
      "Rules:\n",
      "- You are only allowed to talk about coding\n",
      "- You must respond in English.\n",
      "- Try to be concise\n",
      "=================\n",
      "https://smith.langchain.com/o/d967989d-4221-53db-b0a5-665b504acba2/datasets/1e12570f-851b-4e3b-9785-ea4bebd124f4\n"
     ]
    },
    {
     "name": "stderr",
     "output_type": "stream",
     "text": [
      "\n"
     ]
    }
   ],
   "source": [
    "# dataset = LangsmithDataset(dataset_name=\"Promptnado_476666\")\n",
    "\n",
    "pn = Promptnado(example_system_prompt, example_instruction,\n",
    "                examples, max_attempts=2, experiment_name=\"Zeep\")\n",
    "pn.run()"
   ]
  },
  {
   "cell_type": "code",
   "execution_count": null,
   "metadata": {},
   "outputs": [],
   "source": []
  }
 ],
 "metadata": {
  "kernelspec": {
   "display_name": ".venv",
   "language": "python",
   "name": "python3"
  },
  "language_info": {
   "codemirror_mode": {
    "name": "ipython",
    "version": 3
   },
   "file_extension": ".py",
   "mimetype": "text/x-python",
   "name": "python",
   "nbconvert_exporter": "python",
   "pygments_lexer": "ipython3",
   "version": "3.9.6"
  }
 },
 "nbformat": 4,
 "nbformat_minor": 2
}
