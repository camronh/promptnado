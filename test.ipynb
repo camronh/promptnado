{
 "cells": [
  {
   "cell_type": "code",
   "execution_count": 1,
   "metadata": {},
   "outputs": [
    {
     "name": "stdout",
     "output_type": "stream",
     "text": [
      "Note: you may need to restart the kernel to use updated packages.\n"
     ]
    }
   ],
   "source": [
    "%pip install -qU -e ."
   ]
  },
  {
   "cell_type": "code",
   "execution_count": 2,
   "metadata": {},
   "outputs": [
    {
     "data": {
      "text/plain": [
       "True"
      ]
     },
     "execution_count": 2,
     "metadata": {},
     "output_type": "execute_result"
    }
   ],
   "source": [
    "from dotenv import load_dotenv\n",
    "load_dotenv()"
   ]
  },
  {
   "cell_type": "code",
   "execution_count": 3,
   "metadata": {},
   "outputs": [
    {
     "name": "stderr",
     "output_type": "stream",
     "text": [
      "/Users/camron/Documents/Dev/promptnado/.venv/lib/python3.9/site-packages/urllib3/__init__.py:35: NotOpenSSLWarning: urllib3 v2 only supports OpenSSL 1.1.1+, currently the 'ssl' module is compiled with 'LibreSSL 2.8.3'. See: https://github.com/urllib3/urllib3/issues/3020\n",
      "  warnings.warn(\n",
      "/Users/camron/Documents/Dev/promptnado/.venv/lib/python3.9/site-packages/langchain_core/_api/beta_decorator.py:87: LangChainBetaWarning: The function `init_chat_model` is in beta. It is actively being worked on, so the API may change.\n",
      "  warn_beta(\n"
     ]
    }
   ],
   "source": [
    "from promptnado import Promptnado, Example, LangsmithDataset\n",
    "from langchain.schema.messages import AIMessage\n",
    "\n",
    "\n",
    "example_system_prompt = \"\"\"You are a helpful assistant. \n",
    "\n",
    "Rules:\n",
    "- You are only allowed to talk about coding\n",
    "- <HERE>\n",
    "- Try to be concise\"\"\"\n",
    "\n",
    "example_instruction = \"The agent should only respond in English.\"\n",
    "\n",
    "examples = [[AIMessage(content=\"Hola, como estas?\")], \"Hi there!\", Example(\n",
    "    input=\"Hi there!\", reference_output=\"Hey!\")]"
   ]
  },
  {
   "cell_type": "code",
   "execution_count": 4,
   "metadata": {},
   "outputs": [],
   "source": [
    "# dataset = LangsmithDataset(dataset_name=\"Promptnado_476666\")\n",
    "\n",
    "pn = Promptnado(example_system_prompt, example_instruction,\n",
    "                examples, max_attempts=1, experiment_name=\"Zeep\")\n",
    "# pn.run()"
   ]
  },
  {
   "cell_type": "code",
   "execution_count": 5,
   "metadata": {},
   "outputs": [
    {
     "name": "stdout",
     "output_type": "stream",
     "text": [
      "Running Promptnado with instruction: The agent should only respond in English.\n",
      "Created dataset: Promptnado_41577 with 1 examples\n",
      "https://smith.langchain.com/o/d967989d-4221-53db-b0a5-665b504acba2/datasets/7c729588-178e-4642-b95b-06495dae7ad4\n",
      "Generated 5 rules\n",
      "\n",
      "[Rule(reasoning='This prompt directly emphasizes the requirement to respond in English, making it clear and straightforward for the agent.', prompt='You must respond in English.'), Rule(reasoning='By including a reminder about responding in English and specifying that examples should also be in English, this prompt encourages adherence to the language requirement while allowing for illustrative coding examples.', prompt='Always respond in English, including any code examples.'), Rule(reasoning='This suggestion reinforces the language restriction while adding a note about clarity, encouraging the agent to use clear English in its responses, which is vital in coding discussions.', prompt='Respond in clear and precise English.'), Rule(reasoning='This prompt not only emphasizes responding in English but also encourages the agent to ensure that any technical terms or jargon are explained in English, which is useful when discussing coding.', prompt='Please respond in English and explain any technical terms in English.'), Rule(reasoning='The most complex suggestion underscores the importance of responding in English while also inviting the assistant to engage with the user in a more interactive manner, ensuring that the conversation remains focused on coding topics in the correct language.', prompt='Engage with the user in English only, ensuring all coding discussions remain in English and are interactive.')]\n",
      "\n",
      "Testing rule: \"You must respond in English.\"\n",
      "Interpolated prompt:\n",
      "\n",
      "You are a helpful assistant. Respond to My Message.\n",
      "\n",
      "Rules:\n",
      "- You are only allowed to talk about coding\n",
      "- You must respond in English.\n",
      "- Try to be concise\n",
      "\n",
      "My Message: {message}\n"
     ]
    },
    {
     "name": "stderr",
     "output_type": "stream",
     "text": [
      "/Users/camron/Documents/Dev/promptnado/.venv/lib/python3.9/site-packages/tqdm/auto.py:21: TqdmWarning: IProgress not found. Please update jupyter and ipywidgets. See https://ipywidgets.readthedocs.io/en/stable/user_install.html\n",
      "  from .autonotebook import tqdm as notebook_tqdm\n"
     ]
    },
    {
     "name": "stdout",
     "output_type": "stream",
     "text": [
      "View the evaluation results for experiment: 'Attempt-1-38278101' at:\n",
      "https://smith.langchain.com/o/d967989d-4221-53db-b0a5-665b504acba2/datasets/7c729588-178e-4642-b95b-06495dae7ad4/compare?selectedSessions=552cbdcc-de68-4b88-9130-723da7fd2938\n",
      "\n",
      "\n"
     ]
    },
    {
     "name": "stderr",
     "output_type": "stream",
     "text": [
      "1it [00:03,  3.01s/it]"
     ]
    },
    {
     "name": "stdout",
     "output_type": "stream",
     "text": [
      "\n",
      "\n",
      "Solved!! Current prompt can be found at `self.successful_prompt`\n",
      "\n",
      "\n",
      "Successful prompt:\n",
      "====================\n",
      "You are a helpful assistant. Respond to My Message.\n",
      "\n",
      "Rules:\n",
      "- You are only allowed to talk about coding\n",
      "- You must respond in English.\n",
      "- Try to be concise\n",
      "\n",
      "My Message: {message}\n",
      "=================\n",
      "https://smith.langchain.com/o/d967989d-4221-53db-b0a5-665b504acba2/datasets/7c729588-178e-4642-b95b-06495dae7ad4\n"
     ]
    },
    {
     "name": "stderr",
     "output_type": "stream",
     "text": [
      "\n"
     ]
    }
   ],
   "source": [
    "# Args in prompt example\n",
    "from promptnado import Promptnado, Example, LangsmithDataset\n",
    "from langchain.schema.messages import AIMessage\n",
    "\n",
    "\n",
    "example_system_prompt = \"\"\"You are a helpful assistant. Respond to My Message.\n",
    "\n",
    "Rules:\n",
    "- You are only allowed to talk about coding\n",
    "- <HERE>\n",
    "- Try to be concise\n",
    "\n",
    "My Message: {message}\"\"\"\n",
    "\n",
    "example_instruction = \"The agent should only respond in English.\"\n",
    "\n",
    "examples = [{\"message\": \"Hola, como estas!\"}]\n",
    "\n",
    "pn = Promptnado(example_system_prompt, example_instruction,\n",
    "                examples, max_attempts=2)\n",
    "pn.run()\n"
   ]
  },
  {
   "cell_type": "code",
   "execution_count": null,
   "metadata": {},
   "outputs": [],
   "source": []
  }
 ],
 "metadata": {
  "kernelspec": {
   "display_name": ".venv",
   "language": "python",
   "name": "python3"
  },
  "language_info": {
   "codemirror_mode": {
    "name": "ipython",
    "version": 3
   },
   "file_extension": ".py",
   "mimetype": "text/x-python",
   "name": "python",
   "nbconvert_exporter": "python",
   "pygments_lexer": "ipython3",
   "version": "3.9.6"
  }
 },
 "nbformat": 4,
 "nbformat_minor": 2
}
