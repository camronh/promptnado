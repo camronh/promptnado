{
 "cells": [
  {
   "cell_type": "code",
   "execution_count": 1,
   "metadata": {},
   "outputs": [
    {
     "name": "stdout",
     "output_type": "stream",
     "text": [
      "Note: you may need to restart the kernel to use updated packages.\n"
     ]
    }
   ],
   "source": [
    "%pip install -qU -e ."
   ]
  },
  {
   "cell_type": "code",
   "execution_count": 2,
   "metadata": {},
   "outputs": [
    {
     "data": {
      "text/plain": [
       "True"
      ]
     },
     "execution_count": 2,
     "metadata": {},
     "output_type": "execute_result"
    }
   ],
   "source": [
    "from dotenv import load_dotenv\n",
    "load_dotenv()"
   ]
  },
  {
   "cell_type": "code",
   "execution_count": 3,
   "metadata": {},
   "outputs": [
    {
     "name": "stderr",
     "output_type": "stream",
     "text": [
      "/Users/camron/Documents/Dev/promptnado/.venv/lib/python3.9/site-packages/urllib3/__init__.py:35: NotOpenSSLWarning: urllib3 v2 only supports OpenSSL 1.1.1+, currently the 'ssl' module is compiled with 'LibreSSL 2.8.3'. See: https://github.com/urllib3/urllib3/issues/3020\n",
      "  warnings.warn(\n",
      "/Users/camron/Documents/Dev/promptnado/.venv/lib/python3.9/site-packages/langchain_core/_api/beta_decorator.py:87: LangChainBetaWarning: The function `init_chat_model` is in beta. It is actively being worked on, so the API may change.\n",
      "  warn_beta(\n"
     ]
    }
   ],
   "source": [
    "from promptnado import Promptnado, Example, LangsmithDataset\n",
    "from langchain.schema.messages import AIMessage\n",
    "from pydantic.v1 import BaseModel, Field\n",
    "\n",
    "\n",
    "example_system_prompt = \"\"\"You are a helpful assistant. \n",
    "\n",
    "Rules:\n",
    "- You are only allowed to talk about coding\n",
    "- <HERE>\n",
    "- Try to be concise\"\"\"\n",
    "\n",
    "example_instruction = \"The agent should only respond in English.\"\n",
    "\n",
    "examples = [[AIMessage(content=\"Hola, como estas?\")], \"Hi there!\", Example(\n",
    "    input=\"Hi there!\", reference_output=\"Hey!\")]"
   ]
  },
  {
   "cell_type": "code",
   "execution_count": 4,
   "metadata": {},
   "outputs": [
    {
     "name": "stdout",
     "output_type": "stream",
     "text": [
      "Running Promptnado with instruction: The agent should only respond in English.\n",
      "Created dataset: Zeep_77647 with 3 examples\n",
      "https://smith.langchain.com/o/d967989d-4221-53db-b0a5-665b504acba2/datasets/f9102f4e-4915-41e3-b708-0b9af92e1f6f\n",
      "\n",
      "\n",
      "Solved!! Current prompt can be found at `self.successful_prompt`\n",
      "\n",
      "\n",
      "Successful prompt:\n",
      "====================\n",
      "None\n",
      "=================\n",
      "https://smith.langchain.com/o/d967989d-4221-53db-b0a5-665b504acba2/datasets/f9102f4e-4915-41e3-b708-0b9af92e1f6f\n"
     ]
    }
   ],
   "source": [
    "# dataset = LangsmithDataset(dataset_name=\"Promptnado_476666\")\n",
    "\n",
    "pn = Promptnado(example_system_prompt, example_instruction,\n",
    "                examples, max_attempts=2, experiment_name=\"Zeep\")\n",
    "pn.run()"
   ]
  },
  {
   "cell_type": "code",
   "execution_count": 5,
   "metadata": {},
   "outputs": [
    {
     "name": "stdout",
     "output_type": "stream",
     "text": [
      "Running Promptnado with instruction: The agent should only respond in English.\n",
      "Created dataset: Promptnado_496706 with 1 examples\n",
      "https://smith.langchain.com/o/d967989d-4221-53db-b0a5-665b504acba2/datasets/69bca6e8-c804-49d1-b326-672951d43538\n",
      "Generated 5 rules\n",
      "\n",
      "[Rule(reasoning=\"This suggestion directly emphasizes the language restriction, making it clear that the response should be in English. It's a straightforward adjustment to ensure compliance with the instruction.\", prompt='You must respond in English.'), Rule(reasoning=\"This version clarifies that the assistant's responses should be limited to English only, while also adhering to the coding topic. It adds a level of specificity to reinforce the language requirement.\", prompt='Your response must exclusively be in English, focusing on coding.'), Rule(reasoning='This prompt emphasizes the need for English responses and specifies an expectation for clarity in coding explanations. This complexity helps ensure that responses are not only in English but also clear and relevant to coding.', prompt='Respond in clear English only, ensuring your coding explanations are understandable.'), Rule(reasoning=\"This suggestion combines the necessity of English responses with a reminder to avoid jargon unless it is well defined. This complexity is aimed at ensuring the assistant's responses are accessible to all users, regardless of their coding background.\", prompt=\"You must respond in English, avoiding jargon unless it's defined.\"), Rule(reasoning='This complex suggestion establishes that all responses should be in English, while also encouraging a detailed coding explanation, thus ensuring the assistant provides comprehensive and relevant information within the language constraint.', prompt='All responses must be in English and should include detailed coding explanations.')]\n",
      "\n",
      "Testing rule: \"You must respond in English.\"\n",
      "Interpolated prompt:\n",
      "\n",
      "You are a helpful assistant. Respond to My Message.\n",
      "\n",
      "Rules:\n",
      "- You are only allowed to talk about coding\n",
      "- You must respond in English.\n",
      "- Try to be concise\n",
      "\n",
      "My Message: {message}\n"
     ]
    },
    {
     "name": "stderr",
     "output_type": "stream",
     "text": [
      "/Users/camron/Documents/Dev/promptnado/.venv/lib/python3.9/site-packages/tqdm/auto.py:21: TqdmWarning: IProgress not found. Please update jupyter and ipywidgets. See https://ipywidgets.readthedocs.io/en/stable/user_install.html\n",
      "  from .autonotebook import tqdm as notebook_tqdm\n"
     ]
    },
    {
     "name": "stdout",
     "output_type": "stream",
     "text": [
      "View the evaluation results for experiment: 'Attempt-1-1ffaf6a1' at:\n",
      "https://smith.langchain.com/o/d967989d-4221-53db-b0a5-665b504acba2/datasets/69bca6e8-c804-49d1-b326-672951d43538/compare?selectedSessions=8488c5ec-662d-4a90-807e-1237a26b4029\n",
      "\n",
      "\n"
     ]
    },
    {
     "name": "stderr",
     "output_type": "stream",
     "text": [
      "1it [00:02,  2.11s/it]\n"
     ]
    },
    {
     "name": "stdout",
     "output_type": "stream",
     "text": [
      "\n",
      "Testing rule: \"Your response must exclusively be in English, focusing on coding.\"\n",
      "Interpolated prompt:\n",
      "\n",
      "You are a helpful assistant. Respond to My Message.\n",
      "\n",
      "Rules:\n",
      "- You are only allowed to talk about coding\n",
      "- Your response must exclusively be in English, focusing on coding.\n",
      "- Try to be concise\n",
      "\n",
      "My Message: {message}\n",
      "View the evaluation results for experiment: 'Attempt-2-caad6521' at:\n",
      "https://smith.langchain.com/o/d967989d-4221-53db-b0a5-665b504acba2/datasets/69bca6e8-c804-49d1-b326-672951d43538/compare?selectedSessions=e58e885d-e582-4b13-b3bd-83e4e6d0cd81\n",
      "\n",
      "\n"
     ]
    },
    {
     "name": "stderr",
     "output_type": "stream",
     "text": [
      "1it [00:03,  3.22s/it]"
     ]
    },
    {
     "name": "stdout",
     "output_type": "stream",
     "text": [
      "Max attempts reached\n"
     ]
    },
    {
     "name": "stderr",
     "output_type": "stream",
     "text": [
      "\n"
     ]
    }
   ],
   "source": [
    "# Args in prompt example\n",
    "from promptnado import Promptnado, Example, LangsmithDataset\n",
    "from langchain.schema.messages import AIMessage\n",
    "\n",
    "\n",
    "example_system_prompt = \"\"\"You are a helpful assistant. Respond to My Message.\n",
    "\n",
    "Rules:\n",
    "- You are only allowed to talk about coding\n",
    "- <HERE>\n",
    "- Try to be concise\n",
    "\n",
    "My Message: {message}\"\"\"\n",
    "\n",
    "example_instruction = \"The agent should only respond in English.\"\n",
    "\n",
    "examples = [{\"message\": \"Hola, como estas!\"}]\n",
    "\n",
    "pn = Promptnado(example_system_prompt, example_instruction,\n",
    "                examples, max_attempts=2)\n",
    "pn.run()\n"
   ]
  },
  {
   "cell_type": "markdown",
   "metadata": {},
   "source": [
    "Synthetic Examples"
   ]
  },
  {
   "cell_type": "code",
   "execution_count": 6,
   "metadata": {},
   "outputs": [
    {
     "name": "stdout",
     "output_type": "stream",
     "text": [
      "examples=[MessageExample(input='¿Cómo puedo crear una función en Python que sume dos números?', reference_output='To create a function in Python that sums two numbers, you can use the following code: \\n\\ndef sum_numbers(a, b):\\n    return a + b\\n\\nThis function takes two arguments, a and b, and returns their sum.'), MessageExample(input='Comment puis-je écrire une boucle en JavaScript pour parcourir un tableau ?', reference_output='To write a loop in JavaScript to iterate over an array, you can use the following code:\\n\\nconst array = [1, 2, 3, 4, 5];\\nfor (let i = 0; i < array.length; i++) {\\n    console.log(array[i]);\\n}\\n\\nThis will log each element of the array to the console.'), MessageExample(input='Wie schreibe ich eine if-Anweisung in C++?', reference_output='To write an if statement in C++, you can use the following syntax:\\n\\nif (condition) {\\n    // code to execute if condition is true\\n}\\n\\nFor example:\\nif (x > 0) {\\n    std::cout << \"x is positive\";\\n}')]\n"
     ]
    },
    {
     "data": {
      "text/plain": [
       "[Example(input='¿Cómo puedo crear una función en Python que sume dos números?', reference_output='To create a function in Python that sums two numbers, you can use the following code: \\n\\ndef sum_numbers(a, b):\\n    return a + b\\n\\nThis function takes two arguments, a and b, and returns their sum.'),\n",
       " Example(input='Comment puis-je écrire une boucle en JavaScript pour parcourir un tableau ?', reference_output='To write a loop in JavaScript to iterate over an array, you can use the following code:\\n\\nconst array = [1, 2, 3, 4, 5];\\nfor (let i = 0; i < array.length; i++) {\\n    console.log(array[i]);\\n}\\n\\nThis will log each element of the array to the console.'),\n",
       " Example(input='Wie schreibe ich eine if-Anweisung in C++?', reference_output='To write an if statement in C++, you can use the following syntax:\\n\\nif (condition) {\\n    // code to execute if condition is true\\n}\\n\\nFor example:\\nif (x > 0) {\\n    std::cout << \"x is positive\";\\n}')]"
      ]
     },
     "execution_count": 6,
     "metadata": {},
     "output_type": "execute_result"
    }
   ],
   "source": [
    "from promptnado.utils import generate_examples\n",
    "\n",
    "example_system_prompt = \"\"\"You are a helpful assistant. \n",
    "\n",
    "Rules:\n",
    "- You are only allowed to talk about coding\n",
    "- <HERE>\n",
    "- Try to be concise\"\"\"\n",
    "\n",
    "example_instruction = \"The agent should only respond in English.\"\n",
    "\n",
    "examples = generate_examples(example_system_prompt, example_instruction, count=3)\n",
    "examples"
   ]
  },
  {
   "cell_type": "code",
   "execution_count": 7,
   "metadata": {},
   "outputs": [
    {
     "name": "stdout",
     "output_type": "stream",
     "text": [
      "examples=[Schema(message='Can you provide a brief explanation of recursion in programming? Please answer in Spanish.'), Schema(message='What is the purpose of a function in coding? Respond in French.'), Schema(message='Explain the concept of variables in programming. Please provide your answer in both English and German.')]\n",
      "[Example(input='¿Cómo puedo crear una función en Python que sume dos números?', reference_output='To create a function in Python that sums two numbers, you can use the following code: \\n\\ndef sum_numbers(a, b):\\n    return a + b\\n\\nThis function takes two arguments, a and b, and returns their sum.'), Example(input='Comment puis-je écrire une boucle en JavaScript pour parcourir un tableau ?', reference_output='To write a loop in JavaScript to iterate over an array, you can use the following code:\\n\\nconst array = [1, 2, 3, 4, 5];\\nfor (let i = 0; i < array.length; i++) {\\n    console.log(array[i]);\\n}\\n\\nThis will log each element of the array to the console.'), Example(input='Wie schreibe ich eine if-Anweisung in C++?', reference_output='To write an if statement in C++, you can use the following syntax:\\n\\nif (condition) {\\n    // code to execute if condition is true\\n}\\n\\nFor example:\\nif (x > 0) {\\n    std::cout << \"x is positive\";\\n}'), {'message': 'Can you provide a brief explanation of recursion in programming? Please answer in Spanish.'}, {'message': 'What is the purpose of a function in coding? Respond in French.'}, {'message': 'Explain the concept of variables in programming. Please provide your answer in both English and German.'}]\n",
      "Running Promptnado with instruction: The agent should only respond in English.\n",
      "Created dataset: Promptnado_404946 with 6 examples\n",
      "https://smith.langchain.com/o/d967989d-4221-53db-b0a5-665b504acba2/datasets/69093c4a-75c9-4c67-a2b1-b4393a874620\n",
      "Generated 5 rules\n",
      "\n",
      "[Rule(reasoning='This is a straightforward approach that directly states the requirement for language use. It is the simplest way to ensure the assistant responds in English without adding unnecessary complexity.', prompt='You must respond only in English.'), Rule(reasoning='This prompt expands on the first suggestion by explicitly stating the language requirement within the context of coding discussions, reinforcing the focus on English responses.', prompt='Please ensure all responses are in English when discussing coding.'), Rule(reasoning='This version emphasizes the exclusivity of language use by framing it as a strict guideline, which may help reinforce compliance with the instruction.', prompt='You are required to ONLY respond in English.'), Rule(reasoning='This prompt adds a directive tone to the instruction, making it clear that English is the sole language for all responses, thereby increasing the likelihood of adherence.', prompt='Respond exclusively in English for all coding-related queries.'), Rule(reasoning='This complex prompt incorporates a conditional aspect that requires the assistant to confirm its language compliance, adding a layer of accountability to the response.', prompt='Before answering, confirm that your response will be in English only, especially regarding coding discussions.')]\n",
      "\n",
      "Testing rule: \"You must respond only in English.\"\n",
      "Interpolated prompt:\n",
      "\n",
      "You are a helpful assistant. \n",
      "\n",
      "Rules:\n",
      "- You are only allowed to talk about coding\n",
      "- You must respond only in English.\n",
      "- Try to be concise\n",
      "\n",
      "{message}\n",
      "View the evaluation results for experiment: 'Attempt-1-1262d8fa' at:\n",
      "https://smith.langchain.com/o/d967989d-4221-53db-b0a5-665b504acba2/datasets/69093c4a-75c9-4c67-a2b1-b4393a874620/compare?selectedSessions=c2ccb289-c461-4b57-bb39-ab338e0b5d2d\n",
      "\n",
      "\n"
     ]
    },
    {
     "name": "stderr",
     "output_type": "stream",
     "text": [
      "6it [00:05,  1.07it/s]\n"
     ]
    },
    {
     "name": "stdout",
     "output_type": "stream",
     "text": [
      "\n",
      "Testing rule: \"Please ensure all responses are in English when discussing coding.\"\n",
      "Interpolated prompt:\n",
      "\n",
      "You are a helpful assistant. \n",
      "\n",
      "Rules:\n",
      "- You are only allowed to talk about coding\n",
      "- Please ensure all responses are in English when discussing coding.\n",
      "- Try to be concise\n",
      "\n",
      "{message}\n",
      "View the evaluation results for experiment: 'Attempt-2-8148151a' at:\n",
      "https://smith.langchain.com/o/d967989d-4221-53db-b0a5-665b504acba2/datasets/69093c4a-75c9-4c67-a2b1-b4393a874620/compare?selectedSessions=2a5f974a-2a74-4eaf-b097-45283df7c983\n",
      "\n",
      "\n"
     ]
    },
    {
     "name": "stderr",
     "output_type": "stream",
     "text": [
      "6it [00:05,  1.10it/s]"
     ]
    },
    {
     "name": "stdout",
     "output_type": "stream",
     "text": [
      "Max attempts reached\n"
     ]
    },
    {
     "name": "stderr",
     "output_type": "stream",
     "text": [
      "\n"
     ]
    }
   ],
   "source": [
    "class Schema(BaseModel):\n",
    "    message: str = Field(description=\"The message to respond to\")\n",
    "\n",
    "example_system_prompt = \"\"\"You are a helpful assistant. \n",
    "\n",
    "Rules:\n",
    "- You are only allowed to talk about coding\n",
    "- <HERE>\n",
    "- Try to be concise\n",
    "\n",
    "{message}\"\"\"\n",
    "\n",
    "example_instruction = \"The agent should only respond in English.\"\n",
    "\n",
    "pn = Promptnado(example_system_prompt, example_instruction,\n",
    "                examples, max_attempts=2)\n",
    "pn.generate_examples(arg_schema=Schema)\n",
    "print(pn.examples)\n",
    "pn.run()"
   ]
  },
  {
   "cell_type": "code",
   "execution_count": null,
   "metadata": {},
   "outputs": [],
   "source": []
  }
 ],
 "metadata": {
  "kernelspec": {
   "display_name": ".venv",
   "language": "python",
   "name": "python3"
  },
  "language_info": {
   "codemirror_mode": {
    "name": "ipython",
    "version": 3
   },
   "file_extension": ".py",
   "mimetype": "text/x-python",
   "name": "python",
   "nbconvert_exporter": "python",
   "pygments_lexer": "ipython3",
   "version": "3.9.6"
  }
 },
 "nbformat": 4,
 "nbformat_minor": 2
}
