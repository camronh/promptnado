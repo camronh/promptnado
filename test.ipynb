{
 "cells": [
  {
   "cell_type": "code",
   "execution_count": 1,
   "metadata": {},
   "outputs": [
    {
     "name": "stdout",
     "output_type": "stream",
     "text": [
      "Note: you may need to restart the kernel to use updated packages.\n"
     ]
    }
   ],
   "source": [
    "%pip install -qU -e ."
   ]
  },
  {
   "cell_type": "code",
   "execution_count": 2,
   "metadata": {},
   "outputs": [
    {
     "data": {
      "text/plain": [
       "True"
      ]
     },
     "execution_count": 2,
     "metadata": {},
     "output_type": "execute_result"
    }
   ],
   "source": [
    "from dotenv import load_dotenv\n",
    "load_dotenv()"
   ]
  },
  {
   "cell_type": "code",
   "execution_count": 3,
   "metadata": {},
   "outputs": [
    {
     "name": "stderr",
     "output_type": "stream",
     "text": [
      "/Users/camron/Documents/Dev/promptnado/.venv/lib/python3.9/site-packages/urllib3/__init__.py:35: NotOpenSSLWarning: urllib3 v2 only supports OpenSSL 1.1.1+, currently the 'ssl' module is compiled with 'LibreSSL 2.8.3'. See: https://github.com/urllib3/urllib3/issues/3020\n",
      "  warnings.warn(\n",
      "/Users/camron/Documents/Dev/promptnado/.venv/lib/python3.9/site-packages/langchain_core/_api/beta_decorator.py:87: LangChainBetaWarning: The function `init_chat_model` is in beta. It is actively being worked on, so the API may change.\n",
      "  warn_beta(\n"
     ]
    }
   ],
   "source": [
    "from promptnado import Promptnado, Example, LangsmithDataset\n",
    "from langchain.schema.messages import AIMessage\n",
    "from pydantic.v1 import BaseModel, Field\n",
    "\n",
    "\n",
    "example_system_prompt = \"\"\"You are a helpful assistant. \n",
    "\n",
    "Rules:\n",
    "- You are only allowed to talk about coding\n",
    "- <HERE>\n",
    "- Try to be concise\"\"\"\n",
    "\n",
    "example_instruction = \"The agent should only respond in English.\"\n",
    "\n",
    "examples = [[AIMessage(content=\"Hola, como estas?\")], \"Hi there!\", Example(\n",
    "    input=\"Hi there!\", reference_output=\"Hey!\")]"
   ]
  },
  {
   "cell_type": "code",
   "execution_count": 4,
   "metadata": {},
   "outputs": [],
   "source": [
    "# dataset = LangsmithDataset(dataset_name=\"Promptnado_476666\")\n",
    "\n",
    "pn = Promptnado(example_system_prompt, example_instruction,\n",
    "                examples, max_attempts=1, experiment_name=\"Zeep\")\n",
    "# pn.run()"
   ]
  },
  {
   "cell_type": "code",
   "execution_count": 5,
   "metadata": {},
   "outputs": [],
   "source": [
    "# Args in prompt example\n",
    "from promptnado import Promptnado, Example, LangsmithDataset\n",
    "from langchain.schema.messages import AIMessage\n",
    "\n",
    "\n",
    "example_system_prompt = \"\"\"You are a helpful assistant. Respond to My Message.\n",
    "\n",
    "Rules:\n",
    "- You are only allowed to talk about coding\n",
    "- <HERE>\n",
    "- Try to be concise\n",
    "\n",
    "My Message: {message}\"\"\"\n",
    "\n",
    "example_instruction = \"The agent should only respond in English.\"\n",
    "\n",
    "examples = [{\"message\": \"Hola, como estas!\"}]\n",
    "\n",
    "pn = Promptnado(example_system_prompt, example_instruction,\n",
    "                examples, max_attempts=2)\n",
    "# pn.run()\n"
   ]
  },
  {
   "cell_type": "code",
   "execution_count": 6,
   "metadata": {},
   "outputs": [
    {
     "name": "stdout",
     "output_type": "stream",
     "text": [
      "examples=[MessageExample(input='¿Cómo puedo usar Python para analizar datos?', reference_output='You can use libraries like pandas and NumPy in Python to analyze data.'), MessageExample(input='Comment puis-je créer une fonction en JavaScript?', reference_output='You can create a function in JavaScript using the function keyword, for example: function myFunction() {}.'), MessageExample(input='¿Cuál es la mejor manera de aprender programación?', reference_output='The best way to learn programming is through practice and building projects.')]\n"
     ]
    },
    {
     "data": {
      "text/plain": [
       "[Example(input='¿Cómo puedo usar Python para analizar datos?', reference_output='You can use libraries like pandas and NumPy in Python to analyze data.'),\n",
       " Example(input='Comment puis-je créer une fonction en JavaScript?', reference_output='You can create a function in JavaScript using the function keyword, for example: function myFunction() {}.'),\n",
       " Example(input='¿Cuál es la mejor manera de aprender programación?', reference_output='The best way to learn programming is through practice and building projects.')]"
      ]
     },
     "execution_count": 6,
     "metadata": {},
     "output_type": "execute_result"
    }
   ],
   "source": [
    "from promptnado.utils import generate_examples\n",
    "\n",
    "example_system_prompt = \"\"\"You are a helpful assistant. \n",
    "\n",
    "Rules:\n",
    "- You are only allowed to talk about coding\n",
    "- <HERE>\n",
    "- Try to be concise\"\"\"\n",
    "\n",
    "example_instruction = \"The agent should only respond in English.\"\n",
    "\n",
    "examples = generate_examples(example_system_prompt, example_instruction, count=3)\n",
    "examples"
   ]
  },
  {
   "cell_type": "code",
   "execution_count": 7,
   "metadata": {},
   "outputs": [
    {
     "data": {
      "text/plain": [
       "Example(input='¿Cómo puedo usar Python para analizar datos?', reference_output='You can use libraries like pandas and NumPy in Python to analyze data.')"
      ]
     },
     "execution_count": 7,
     "metadata": {},
     "output_type": "execute_result"
    }
   ],
   "source": [
    "examples[0]"
   ]
  },
  {
   "cell_type": "code",
   "execution_count": 8,
   "metadata": {},
   "outputs": [
    {
     "name": "stdout",
     "output_type": "stream",
     "text": [
      "examples=[Schema(message='¿Cómo puedo escribir un bucle en Python?'), Schema(message='Comment puis-je créer une fonction en JavaScript?'), Schema(message='Как написать условие в C++?')]\n"
     ]
    },
    {
     "data": {
      "text/plain": [
       "[{'message': '¿Cómo puedo escribir un bucle en Python?'},\n",
       " {'message': 'Comment puis-je créer une fonction en JavaScript?'},\n",
       " {'message': 'Как написать условие в C++?'}]"
      ]
     },
     "execution_count": 8,
     "metadata": {},
     "output_type": "execute_result"
    }
   ],
   "source": [
    "from promptnado.utils import generate_examples\n",
    "\n",
    "class Schema(BaseModel):\n",
    "    message: str = Field(description=\"The message to respond to\")\n",
    "\n",
    "example_system_prompt = \"\"\"You are a helpful assistant. \n",
    "\n",
    "Rules:\n",
    "- You are only allowed to talk about coding\n",
    "- <HERE>\n",
    "- Try to be concise\n",
    "\n",
    "{message}\"\"\"\n",
    "\n",
    "example_instruction = \"The agent should only respond in English.\"\n",
    "\n",
    "examples = generate_examples(example_system_prompt, example_instruction, arg_schema=Schema)\n",
    "examples"
   ]
  }
 ],
 "metadata": {
  "kernelspec": {
   "display_name": ".venv",
   "language": "python",
   "name": "python3"
  },
  "language_info": {
   "codemirror_mode": {
    "name": "ipython",
    "version": 3
   },
   "file_extension": ".py",
   "mimetype": "text/x-python",
   "name": "python",
   "nbconvert_exporter": "python",
   "pygments_lexer": "ipython3",
   "version": "3.9.6"
  }
 },
 "nbformat": 4,
 "nbformat_minor": 2
}
