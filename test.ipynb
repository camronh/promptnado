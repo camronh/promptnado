{
 "cells": [
  {
   "cell_type": "code",
   "execution_count": 1,
   "metadata": {},
   "outputs": [
    {
     "name": "stdout",
     "output_type": "stream",
     "text": [
      "Note: you may need to restart the kernel to use updated packages.\n"
     ]
    }
   ],
   "source": [
    "%pip install -qU -e ."
   ]
  },
  {
   "cell_type": "code",
   "execution_count": 2,
   "metadata": {},
   "outputs": [
    {
     "data": {
      "text/plain": [
       "True"
      ]
     },
     "execution_count": 2,
     "metadata": {},
     "output_type": "execute_result"
    }
   ],
   "source": [
    "from dotenv import load_dotenv\n",
    "load_dotenv()"
   ]
  },
  {
   "cell_type": "code",
   "execution_count": 3,
   "metadata": {},
   "outputs": [
    {
     "name": "stderr",
     "output_type": "stream",
     "text": [
      "/Users/camron/Documents/Dev/promptnado/.venv/lib/python3.9/site-packages/urllib3/__init__.py:35: NotOpenSSLWarning: urllib3 v2 only supports OpenSSL 1.1.1+, currently the 'ssl' module is compiled with 'LibreSSL 2.8.3'. See: https://github.com/urllib3/urllib3/issues/3020\n",
      "  warnings.warn(\n",
      "/Users/camron/Documents/Dev/promptnado/.venv/lib/python3.9/site-packages/langchain_core/_api/beta_decorator.py:87: LangChainBetaWarning: The function `init_chat_model` is in beta. It is actively being worked on, so the API may change.\n",
      "  warn_beta(\n"
     ]
    }
   ],
   "source": [
    "from promptnado import Promptnado, Example, LangsmithDataset\n",
    "from langchain.schema.messages import AIMessage\n",
    "from pydantic.v1 import BaseModel, Field\n",
    "\n",
    "\n",
    "example_system_prompt = \"\"\"You are a helpful assistant. \n",
    "\n",
    "Rules:\n",
    "- You are only allowed to talk about coding\n",
    "- <HERE>\n",
    "- Try to be concise\"\"\"\n",
    "\n",
    "example_instruction = \"The agent should only respond in English.\"\n",
    "\n",
    "examples = [[AIMessage(content=\"Hola, como estas?\")], \"Hi there!\", Example(\n",
    "    input=\"Hi there!\", reference_output=\"Hey!\")]"
   ]
  },
  {
   "cell_type": "code",
   "execution_count": 4,
   "metadata": {},
   "outputs": [],
   "source": [
    "# dataset = LangsmithDataset(dataset_name=\"Promptnado_476666\")\n",
    "\n",
    "pn = Promptnado(example_system_prompt, example_instruction,\n",
    "                examples, max_attempts=1, experiment_name=\"Zeep\")\n",
    "# pn.run()"
   ]
  },
  {
   "cell_type": "code",
   "execution_count": 5,
   "metadata": {},
   "outputs": [],
   "source": [
    "# Args in prompt example\n",
    "from promptnado import Promptnado, Example, LangsmithDataset\n",
    "from langchain.schema.messages import AIMessage\n",
    "\n",
    "\n",
    "example_system_prompt = \"\"\"You are a helpful assistant. Respond to My Message.\n",
    "\n",
    "Rules:\n",
    "- You are only allowed to talk about coding\n",
    "- <HERE>\n",
    "- Try to be concise\n",
    "\n",
    "My Message: {message}\"\"\"\n",
    "\n",
    "example_instruction = \"The agent should only respond in English.\"\n",
    "\n",
    "examples = [{\"message\": \"Hola, como estas!\"}]\n",
    "\n",
    "pn = Promptnado(example_system_prompt, example_instruction,\n",
    "                examples, max_attempts=2)\n",
    "# pn.run()\n"
   ]
  },
  {
   "cell_type": "markdown",
   "metadata": {},
   "source": [
    "Synthetic Examples"
   ]
  },
  {
   "cell_type": "code",
   "execution_count": 6,
   "metadata": {},
   "outputs": [],
   "source": [
    "from promptnado.utils import generate_examples\n",
    "\n",
    "example_system_prompt = \"\"\"You are a helpful assistant. \n",
    "\n",
    "Rules:\n",
    "- You are only allowed to talk about coding\n",
    "- <HERE>\n",
    "- Try to be concise\"\"\"\n",
    "\n",
    "example_instruction = \"The agent should only respond in English.\"\n",
    "\n",
    "# examples = generate_examples(example_system_prompt, example_instruction, count=3)\n",
    "# examples"
   ]
  },
  {
   "cell_type": "code",
   "execution_count": 7,
   "metadata": {},
   "outputs": [
    {
     "name": "stdout",
     "output_type": "stream",
     "text": [
      "examples=[Schema(message='¿Cómo puedo implementar una función en Python para calcular la suma de dos números?'), Schema(message='Как создать простой веб-сайт с использованием HTML и CSS?'), Schema(message='¿Cuál es la mejor manera de aprender JavaScript rápidamente?')]\n",
      "[{'message': 'Hola, como estas!'}, {'message': '¿Cómo puedo implementar una función en Python para calcular la suma de dos números?'}, {'message': 'Как создать простой веб-сайт с использованием HTML и CSS?'}, {'message': '¿Cuál es la mejor manera de aprender JavaScript rápidamente?'}]\n",
      "Running Promptnado with instruction: The agent should only respond in English.\n",
      "Created dataset: Promptnado_955098 with 4 examples\n",
      "https://smith.langchain.com/o/d967989d-4221-53db-b0a5-665b504acba2/datasets/422604df-fa9a-4129-8725-ed709618c4a8\n",
      "Generated 5 rules\n",
      "\n",
      "[Rule(reasoning='This simple prompt explicitly states the language restriction, helping to ensure the response is in English without adding complexity.', prompt='You must respond only in English.'), Rule(reasoning='This suggestion combines the language requirement with a direct instruction to reinforce the importance of responding in English.', prompt='Ensure that your responses are exclusively in English.'), Rule(reasoning=\"This prompt emphasizes that responses must be in English by using the phrase 'You can only answer in English' for clarity.\", prompt='You can only answer in English.'), Rule(reasoning=\"By stating 'All responses must be in English,' this rule adds a level of authority to the instruction, making it clear that there are no exceptions.\", prompt='All responses must be in English.'), Rule(reasoning='This more complex suggestion includes a specific instruction about the language along with an example, which could help clarify expectations.', prompt=\"Only respond in English. For instance, if asked, 'How do I write a loop in Python?', your answer must be in English.\")]\n",
      "\n",
      "Testing rule: \"You must respond only in English.\"\n",
      "Interpolated prompt:\n",
      "\n",
      "You are a helpful assistant. \n",
      "\n",
      "Rules:\n",
      "- You are only allowed to talk about coding\n",
      "- You must respond only in English.\n",
      "- Try to be concise\n",
      "\n",
      "{message}\n"
     ]
    },
    {
     "name": "stderr",
     "output_type": "stream",
     "text": [
      "/Users/camron/Documents/Dev/promptnado/.venv/lib/python3.9/site-packages/tqdm/auto.py:21: TqdmWarning: IProgress not found. Please update jupyter and ipywidgets. See https://ipywidgets.readthedocs.io/en/stable/user_install.html\n",
      "  from .autonotebook import tqdm as notebook_tqdm\n"
     ]
    },
    {
     "name": "stdout",
     "output_type": "stream",
     "text": [
      "View the evaluation results for experiment: 'Attempt-1-a27e56a5' at:\n",
      "https://smith.langchain.com/o/d967989d-4221-53db-b0a5-665b504acba2/datasets/422604df-fa9a-4129-8725-ed709618c4a8/compare?selectedSessions=eb646ac2-60b7-4b88-9490-4c2b4ef975d0\n",
      "\n",
      "\n"
     ]
    },
    {
     "name": "stderr",
     "output_type": "stream",
     "text": [
      "4it [00:07,  1.93s/it]"
     ]
    },
    {
     "name": "stdout",
     "output_type": "stream",
     "text": [
      "\n",
      "\n",
      "Solved!! Current prompt can be found at `self.successful_prompt`\n",
      "\n",
      "\n",
      "Successful prompt:\n",
      "====================\n",
      "You are a helpful assistant. \n",
      "\n",
      "Rules:\n",
      "- You are only allowed to talk about coding\n",
      "- You must respond only in English.\n",
      "- Try to be concise\n",
      "\n",
      "{message}\n",
      "=================\n",
      "https://smith.langchain.com/o/d967989d-4221-53db-b0a5-665b504acba2/datasets/422604df-fa9a-4129-8725-ed709618c4a8\n"
     ]
    },
    {
     "name": "stderr",
     "output_type": "stream",
     "text": [
      "\n"
     ]
    }
   ],
   "source": [
    "class Schema(BaseModel):\n",
    "    message: str = Field(description=\"The message to respond to\")\n",
    "\n",
    "example_system_prompt = \"\"\"You are a helpful assistant. \n",
    "\n",
    "Rules:\n",
    "- You are only allowed to talk about coding\n",
    "- <HERE>\n",
    "- Try to be concise\n",
    "\n",
    "{message}\"\"\"\n",
    "\n",
    "example_instruction = \"The agent should only respond in English.\"\n",
    "\n",
    "pn = Promptnado(example_system_prompt, example_instruction,\n",
    "                examples, max_attempts=2)\n",
    "pn.generate_examples(arg_schema=Schema)\n",
    "print(pn.examples)\n",
    "pn.run()"
   ]
  },
  {
   "cell_type": "code",
   "execution_count": null,
   "metadata": {},
   "outputs": [],
   "source": []
  }
 ],
 "metadata": {
  "kernelspec": {
   "display_name": ".venv",
   "language": "python",
   "name": "python3"
  },
  "language_info": {
   "codemirror_mode": {
    "name": "ipython",
    "version": 3
   },
   "file_extension": ".py",
   "mimetype": "text/x-python",
   "name": "python",
   "nbconvert_exporter": "python",
   "pygments_lexer": "ipython3",
   "version": "3.9.6"
  }
 },
 "nbformat": 4,
 "nbformat_minor": 2
}
